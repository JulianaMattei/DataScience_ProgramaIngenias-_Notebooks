{
 "cells": [
  {
   "cell_type": "markdown",
   "metadata": {
    "id": "H4M1yVbf9IwH"
   },
   "source": [
    "Como dijimos en clases anteriores, Python tiene implementadas muchas librerias para poder trabajar con datos. En la clase de hoy trabajaremos con una de ellas: `Numpy`."
   ]
  },
  {
   "cell_type": "markdown",
   "metadata": {
    "id": "GdTT8WeL9IwI"
   },
   "source": [
    "Antes de comenzar, vamos a hablar un poco de esta libreria o modulo.\n",
    "\n",
    "**Numpy** es una librería optimizada para realizar cálculos numéricos con vectores y matrices. A diferencia de otros lenguajes de programación, Python no posee en su estructura central la figura de matrices. Eso quiere decir que para poder trabajar con esta estructura de datos deberiamos trabajar con listas de listas. NumPy introduce el concepto de arrays o matrices."
   ]
  },
  {
   "cell_type": "markdown",
   "metadata": {
    "id": "qWkq3EHK9IwK"
   },
   "source": [
    "Al ser de código abierto, `numpy` posee una documentación muy amplia que es **SIEMPRE RECOMENDABLE** consultar."
   ]
  },
  {
   "cell_type": "markdown",
   "metadata": {
    "id": "nxe3KLUO9IwL"
   },
   "source": [
    "- [Documentacion NumPy](https://devdocs.io/numpy/)"
   ]
  },
  {
   "cell_type": "markdown",
   "metadata": {
    "id": "l1Ay3nSs9IwN"
   },
   "source": [
    "## Clase 4: Introduccion a NumPy"
   ]
  },
  {
   "cell_type": "markdown",
   "metadata": {
    "id": "X03mviQS9IyL"
   },
   "source": [
    "# Ejercicios\n",
    "\n",
    "1. Crear un arreglo de ceros de longitud 12\n",
    "2. Crear un arreglo de longitud 10 con ceros en todas sus posiciones y un 10 en la posición número 5\n",
    "3. Crear un arreglo que tenga los números del 10 al 49\n",
    "4. Crear una arreglo 2d de shape (3, 3) que tenga los números del 0 al 8\n",
    "5. Crear un arreglo de números aleatorios de longitud 100 y obtener su media y varianza\n",
    "6. Calcular la media de un arreglo usando np.sum\n",
    "7. Calcular la varianza de un arreglo usando np.sum y np.mean\n",
    "8. Crear un array de números aleatorios usando np.random.randn.\n"
   ]
  },
  {
   "cell_type": "code",
   "execution_count": 6,
   "metadata": {
    "execution": {
     "iopub.execute_input": "2025-04-14T20:42:31.241346Z",
     "iopub.status.busy": "2025-04-14T20:42:31.241131Z",
     "iopub.status.idle": "2025-04-14T20:42:31.243951Z",
     "shell.execute_reply": "2025-04-14T20:42:31.243386Z",
     "shell.execute_reply.started": "2025-04-14T20:42:31.241331Z"
    }
   },
   "outputs": [],
   "source": [
    "import numpy as np"
   ]
  },
  {
   "cell_type": "code",
   "execution_count": 7,
   "metadata": {
    "execution": {
     "iopub.execute_input": "2025-04-14T20:42:32.392120Z",
     "iopub.status.busy": "2025-04-14T20:42:32.391493Z",
     "iopub.status.idle": "2025-04-14T20:42:32.396307Z",
     "shell.execute_reply": "2025-04-14T20:42:32.395507Z",
     "shell.execute_reply.started": "2025-04-14T20:42:32.392093Z"
    },
    "id": "G0NMKT609IyM"
   },
   "outputs": [
    {
     "name": "stdout",
     "output_type": "stream",
     "text": [
      "[0. 0. 0. 0. 0. 0. 0. 0. 0. 0. 0. 0.]\n"
     ]
    }
   ],
   "source": [
    "# 1. Crear un arreglo de ceros de longitud 12\n",
    "arr_ceros = np.zeros(12)\n",
    "print(arr_ceros)"
   ]
  },
  {
   "cell_type": "code",
   "execution_count": 8,
   "metadata": {
    "execution": {
     "iopub.execute_input": "2025-04-14T20:42:33.408159Z",
     "iopub.status.busy": "2025-04-14T20:42:33.407725Z",
     "iopub.status.idle": "2025-04-14T20:42:33.413702Z",
     "shell.execute_reply": "2025-04-14T20:42:33.413031Z",
     "shell.execute_reply.started": "2025-04-14T20:42:33.408132Z"
    }
   },
   "outputs": [
    {
     "name": "stdout",
     "output_type": "stream",
     "text": [
      "[ 0.  0.  0.  0. 10.  0.  0.  0.  0.  0.]\n"
     ]
    }
   ],
   "source": [
    "# 2. Crear un arreglo de longitud 10 con ceros en todas sus posiciones y un 10 en la posición número 5\n",
    "arr_2 = np.zeros(10)\n",
    "arr_2[4] = 10\n",
    "print(arr_2)"
   ]
  },
  {
   "cell_type": "code",
   "execution_count": 11,
   "metadata": {
    "execution": {
     "iopub.execute_input": "2025-04-14T20:45:51.135068Z",
     "iopub.status.busy": "2025-04-14T20:45:51.134846Z",
     "iopub.status.idle": "2025-04-14T20:45:51.138439Z",
     "shell.execute_reply": "2025-04-14T20:45:51.137904Z",
     "shell.execute_reply.started": "2025-04-14T20:45:51.135050Z"
    }
   },
   "outputs": [
    {
     "name": "stdout",
     "output_type": "stream",
     "text": [
      "[10 11 12 13 14 15 16 17 18 19 20 21 22 23 24 25 26 27 28 29 30 31 32 33\n",
      " 34 35 36 37 38 39 40 41 42 43 44 45 46 47 48 49]\n"
     ]
    }
   ],
   "source": [
    "# 3. Crear un arreglo que tenga los números del 10 al 49\n",
    "# np.arange([start, ]stop, [step, ])\n",
    "arr_3 = np.arange(10, 50, 1)\n",
    "print(arr_3)"
   ]
  },
  {
   "cell_type": "code",
   "execution_count": 15,
   "metadata": {
    "execution": {
     "iopub.execute_input": "2025-04-14T20:53:34.377353Z",
     "iopub.status.busy": "2025-04-14T20:53:34.376951Z",
     "iopub.status.idle": "2025-04-14T20:53:34.380804Z",
     "shell.execute_reply": "2025-04-14T20:53:34.380269Z",
     "shell.execute_reply.started": "2025-04-14T20:53:34.377334Z"
    }
   },
   "outputs": [
    {
     "name": "stdout",
     "output_type": "stream",
     "text": [
      "[[0 1 2]\n",
      " [3 4 5]\n",
      " [6 7 8]]\n"
     ]
    }
   ],
   "source": [
    "# 4. Crear una arreglo 2d de shape (3, 3) que tenga los números del 0 al 8\n",
    "arr_4 = np.arange(9).reshape(3, 3)\n",
    "print(arr_4)"
   ]
  },
  {
   "cell_type": "code",
   "execution_count": 29,
   "metadata": {
    "execution": {
     "iopub.execute_input": "2025-04-14T21:18:35.575945Z",
     "iopub.status.busy": "2025-04-14T21:18:35.575719Z",
     "iopub.status.idle": "2025-04-14T21:18:35.580010Z",
     "shell.execute_reply": "2025-04-14T21:18:35.579470Z",
     "shell.execute_reply.started": "2025-04-14T21:18:35.575928Z"
    }
   },
   "outputs": [
    {
     "name": "stdout",
     "output_type": "stream",
     "text": [
      "media:  99.01  - varianza:  3764.2898999999993\n"
     ]
    }
   ],
   "source": [
    "# 5. Crear un arreglo de números aleatorios de longitud 100 y obtener su media y varianza\n",
    "# np.random.randint(low, high, size)\n",
    "# np.mean(): Media o Promedio\n",
    "arr_5 = np.random.randint(0, 200, 100)\n",
    "media_5 = np.mean(arr_5)\n",
    "varianza_5 = np.var(arr_5)\n",
    "print(\"media: \", media_5, \" - varianza: \", varianza_5)"
   ]
  },
  {
   "cell_type": "code",
   "execution_count": 30,
   "metadata": {
    "execution": {
     "iopub.execute_input": "2025-04-14T21:18:37.515264Z",
     "iopub.status.busy": "2025-04-14T21:18:37.514869Z",
     "iopub.status.idle": "2025-04-14T21:18:37.519683Z",
     "shell.execute_reply": "2025-04-14T21:18:37.518216Z",
     "shell.execute_reply.started": "2025-04-14T21:18:37.515243Z"
    }
   },
   "outputs": [
    {
     "name": "stdout",
     "output_type": "stream",
     "text": [
      "99.01\n"
     ]
    }
   ],
   "source": [
    "# 6. Calcular la media de un arreglo usando np.sum\n",
    "media_6 = np.sum(arr_5) / len(arr_5)\n",
    "print(media_6)"
   ]
  },
  {
   "cell_type": "code",
   "execution_count": 31,
   "metadata": {
    "execution": {
     "iopub.execute_input": "2025-04-14T21:18:40.228314Z",
     "iopub.status.busy": "2025-04-14T21:18:40.227899Z",
     "iopub.status.idle": "2025-04-14T21:18:40.231736Z",
     "shell.execute_reply": "2025-04-14T21:18:40.231188Z",
     "shell.execute_reply.started": "2025-04-14T21:18:40.228295Z"
    }
   },
   "outputs": [
    {
     "name": "stdout",
     "output_type": "stream",
     "text": [
      "3764.3799\n"
     ]
    }
   ],
   "source": [
    "# 7. Calcular la varianza de un arreglo usando np.sum y np.mean\n",
    "varianza_7 = np.sum((arr_5 - media)**2) / len(arr_5)\n",
    "print(varianza_7)"
   ]
  },
  {
   "cell_type": "code",
   "execution_count": 33,
   "metadata": {
    "execution": {
     "iopub.execute_input": "2025-04-14T21:20:47.188701Z",
     "iopub.status.busy": "2025-04-14T21:20:47.188295Z",
     "iopub.status.idle": "2025-04-14T21:20:47.192141Z",
     "shell.execute_reply": "2025-04-14T21:20:47.191564Z",
     "shell.execute_reply.started": "2025-04-14T21:20:47.188682Z"
    }
   },
   "outputs": [
    {
     "name": "stdout",
     "output_type": "stream",
     "text": [
      "[0.89933272 0.35078635 0.54115449 0.85522826 0.90163318 0.80555597\n",
      " 0.17645493 0.88637314 0.68246446 0.97280952]\n"
     ]
    }
   ],
   "source": [
    "# 8. Crear un array de números aleatorios usando np.random.randn.\n",
    "# np.random.rand(d0, d1, ..., dn)\n",
    "arr_8 = np.random.rand(10)\n",
    "print(arr_8)"
   ]
  },
  {
   "cell_type": "code",
   "execution_count": null,
   "metadata": {},
   "outputs": [],
   "source": []
  }
 ],
 "metadata": {
  "colab": {
   "provenance": []
  },
  "kernelspec": {
   "display_name": "anaconda-panel-2023.05-py310",
   "language": "python",
   "name": "conda-env-anaconda-panel-2023.05-py310-py"
  },
  "language_info": {
   "codemirror_mode": {
    "name": "ipython",
    "version": 3
   },
   "file_extension": ".py",
   "mimetype": "text/x-python",
   "name": "python",
   "nbconvert_exporter": "python",
   "pygments_lexer": "ipython3",
   "version": "3.11.5"
  }
 },
 "nbformat": 4,
 "nbformat_minor": 4
}
